{
 "cells": [
  {
   "cell_type": "markdown",
   "id": "a14894e3",
   "metadata": {},
   "source": [
    "After completing HPO for every model (LGBM, XGBoost, Catboost), a submission for every single model is created in this notebook for comparison to the ensemble."
   ]
  },
  {
   "cell_type": "markdown",
   "id": "580f8b13",
   "metadata": {},
   "source": [
    "First for LGBM:"
   ]
  },
  {
   "cell_type": "code",
   "execution_count": null,
   "id": "5bb91978",
   "metadata": {},
   "outputs": [],
   "source": [
    "import pandas as pd\n",
    "import lightgbm as lgb\n",
    "from creditutils.path_utils import get_project_root\n",
    "\n",
    "# Pfade\n",
    "proj_root = get_project_root(levels_up=1)\n",
    "output_dir = proj_root / \"outputs\"\n",
    "train_path = output_dir / \"03_train_features_autosearch_baseline.parquet\"\n",
    "test_path  = output_dir / \"03_test_features_autosearch_baseline.parquet\"\n",
    "sub_path   = proj_root / \"submissions\" / \"01_submission_ligthgbm_auto_and_handcrafted_baseline.csv\"\n",
    "\n",
    "# Daten laden\n",
    "train_df = pd.read_parquet(train_path)\n",
    "test_df  = pd.read_parquet(test_path)\n",
    "\n",
    "# Zielspalte & Features\n",
    "y_train = train_df[\"TARGET\"]\n",
    "X_train = train_df.drop(columns=[\"SK_ID_CURR\", \"TARGET\"])\n",
    "X_test  = test_df.drop(columns=[\"SK_ID_CURR\"])\n",
    "\n",
    "# Gleiche Kategorien erzwingen bei object/categorical Columns\n",
    "cat_cols = X_train.select_dtypes(include=[\"object\", \"category\"]).columns.tolist()\n",
    "for col in cat_cols:\n",
    "    X_train[col] = X_train[col].astype(\"category\")\n",
    "    X_test[col] = pd.Categorical(X_test[col], categories=X_train[col].cat.categories)\n",
    "\n",
    "# Modell\n",
    "model = lgb.LGBMClassifier(\n",
    "    boosting_type=\"goss\",\n",
    "    learning_rate=0.0031335727235880005,\n",
    "    max_depth=13,\n",
    "    num_leaves=100,\n",
    "    min_child_samples=191,\n",
    "    reg_alpha=0.037036865048284115,\n",
    "    reg_lambda=0.0021849671286405664,\n",
    "    subsample=0.8476213315586094,\n",
    "    colsample_bytree=0.444071532621635,\n",
    "    n_estimators=5339,\n",
    "    random_state=42,\n",
    "    n_jobs=-1\n",
    ")\n",
    "\n",
    "# Training\n",
    "model.fit(X_train, y_train)\n",
    "\n",
    "# Prediction\n",
    "y_pred = model.predict_proba(X_test)[:, 1]\n",
    "\n",
    "# Submission\n",
    "submission = pd.DataFrame({\n",
    "    \"SK_ID_CURR\": test_df[\"SK_ID_CURR\"],\n",
    "    \"TARGET\": y_pred\n",
    "})\n",
    "submission.to_csv(sub_path, index=False)\n",
    "print(f\"Submission saved to: {sub_path}\")"
   ]
  },
  {
   "cell_type": "markdown",
   "id": "3f25712a",
   "metadata": {},
   "source": [
    "Catboost:"
   ]
  },
  {
   "cell_type": "code",
   "execution_count": 3,
   "id": "704dbfc1",
   "metadata": {},
   "outputs": [
    {
     "name": "stdout",
     "output_type": "stream",
     "text": [
      "Submission saved to: C:\\Users\\tgruenecker\\OneDrive\\Desktop\\Master_Studium\\3. Semester\\Home_Credit_Projekt\\Home_Credit_Project\\submissions\\01_submission_catboost_baseline.csv\n"
     ]
    }
   ],
   "source": [
    "import pandas as pd\n",
    "from catboost import CatBoostClassifier\n",
    "from creditutils.path_utils import get_project_root\n",
    "\n",
    "# Pfade\n",
    "proj_root = get_project_root(levels_up=1)\n",
    "output_dir = proj_root / \"outputs\"\n",
    "train_path = output_dir / \"03_train_features_autosearch_baseline.parquet\"\n",
    "test_path  = output_dir / \"03_test_features_autosearch_baseline.parquet\"\n",
    "sub_path   = proj_root / \"submissions\" / \"01_submission_catboost_baseline.csv\"\n",
    "\n",
    "# Daten laden\n",
    "train_df = pd.read_parquet(train_path)\n",
    "test_df  = pd.read_parquet(test_path)\n",
    "\n",
    "# Ziel & Features\n",
    "y_train = train_df[\"TARGET\"]\n",
    "X_train = train_df.drop(columns=[\"SK_ID_CURR\", \"TARGET\"])\n",
    "X_test  = test_df.drop(columns=[\"SK_ID_CURR\"])\n",
    "\n",
    "# Automatisch kategorische Spalten finden (object oder category)\n",
    "cat_cols = X_train.select_dtypes(include=[\"object\", \"category\"]).columns\n",
    "cat_features_idx = [X_train.columns.get_loc(col) for col in cat_cols]\n",
    "\n",
    "# CatBoost benötigt Strings bei kategorischen Features\n",
    "X_train[cat_cols] = X_train[cat_cols].astype(str)\n",
    "X_test[cat_cols]  = X_test[cat_cols].astype(str)\n",
    "\n",
    "# Modell\n",
    "model = CatBoostClassifier(\n",
    "    iterations=1383,\n",
    "    learning_rate=0.042326510977740595,\n",
    "    depth=5,\n",
    "    l2_leaf_reg=5.551455325485743,\n",
    "    bagging_temperature=0.6584052675829963,\n",
    "    border_count=72,\n",
    "    auto_class_weights='Balanced',\n",
    "    eval_metric='AUC',\n",
    "    random_seed=42,\n",
    "    verbose=0,\n",
    "    task_type='CPU'\n",
    ")\n",
    "\n",
    "model.fit(X_train, y_train, cat_features=cat_features_idx)\n",
    "\n",
    "# Prediction & Submission\n",
    "y_pred = model.predict_proba(X_test)[:, 1]\n",
    "submission = pd.DataFrame({\n",
    "    \"SK_ID_CURR\": test_df[\"SK_ID_CURR\"],\n",
    "    \"TARGET\": y_pred\n",
    "})\n",
    "submission.to_csv(sub_path, index=False)\n",
    "print(f\"Submission saved to: {sub_path}\")"
   ]
  },
  {
   "cell_type": "markdown",
   "id": "b80f4469",
   "metadata": {},
   "source": [
    "XGBoost"
   ]
  },
  {
   "cell_type": "code",
   "execution_count": 3,
   "id": "77ad7685",
   "metadata": {},
   "outputs": [
    {
     "name": "stderr",
     "output_type": "stream",
     "text": [
      "c:\\Users\\tgruenecker\\AppData\\Local\\Programs\\Python\\Python312\\Lib\\site-packages\\xgboost\\training.py:183: UserWarning: [20:35:10] WARNING: C:\\actions-runner\\_work\\xgboost\\xgboost\\src\\learner.cc:738: \n",
      "Parameters: { \"use_label_encoder\" } are not used.\n",
      "\n",
      "  bst.update(dtrain, iteration=i, fobj=obj)\n"
     ]
    },
    {
     "name": "stdout",
     "output_type": "stream",
     "text": [
      "Submission saved to: C:\\Users\\tgruenecker\\OneDrive\\Desktop\\Master_Studium\\3. Semester\\Home_Credit_Projekt\\Home_Credit_Project\\submissions\\01_submission_xgboost_baseline.csv\n"
     ]
    }
   ],
   "source": [
    "import pandas as pd\n",
    "from xgboost import XGBClassifier\n",
    "from creditutils.path_utils import get_project_root\n",
    "\n",
    "# Pfade\n",
    "proj_root = get_project_root(levels_up=1)\n",
    "output_dir = proj_root / \"outputs\"\n",
    "train_path = output_dir / \"03_train_features_autosearch_baseline.parquet\"\n",
    "test_path  = output_dir / \"03_test_features_autosearch_baseline.parquet\"\n",
    "sub_path   = proj_root / \"submissions\" / \"01_submission_xgboost_baseline.csv\"\n",
    "\n",
    "# Daten laden\n",
    "train_df = pd.read_parquet(train_path)\n",
    "test_df = pd.read_parquet(test_path)\n",
    "\n",
    "# Ziel & Features\n",
    "y_train = train_df[\"TARGET\"]\n",
    "X_train = train_df.drop(columns=[\"SK_ID_CURR\", \"TARGET\"])\n",
    "X_test = test_df.drop(columns=[\"SK_ID_CURR\"])\n",
    "\n",
    "# Alle nicht-numerischen Spalten in category umwandeln (XGBoost-kompatibel)\n",
    "non_numeric_cols = X_train.select_dtypes(exclude=[\"int\", \"float\", \"bool\"]).columns\n",
    "for col in non_numeric_cols:\n",
    "    X_train[col] = X_train[col].astype(\"category\")\n",
    "    X_test[col] = X_test[col].astype(\"category\")\n",
    "\n",
    "# Modell\n",
    "model = XGBClassifier(\n",
    "    n_estimators=1042,\n",
    "    learning_rate=0.05558810799284791,\n",
    "    max_depth=3,\n",
    "    subsample=0.8787759145726666,\n",
    "    colsample_bytree=0.9105365550107795,\n",
    "    gamma=3.633742017324177,\n",
    "    reg_alpha=3.5602493930649466,\n",
    "    reg_lambda=2.183731116122563,\n",
    "    scale_pos_weight=11.387150050352467,\n",
    "    use_label_encoder=False,\n",
    "    enable_categorical=True,\n",
    "    eval_metric='auc',\n",
    "    tree_method='hist',\n",
    "    random_state=42,\n",
    "    n_jobs=-1\n",
    ")\n",
    "\n",
    "# Trainieren\n",
    "model.fit(X_train, y_train)\n",
    "\n",
    "# Vorhersage & Submission\n",
    "y_pred = model.predict_proba(X_test)[:, 1]\n",
    "submission = pd.DataFrame({\n",
    "    \"SK_ID_CURR\": test_df[\"SK_ID_CURR\"],\n",
    "    \"TARGET\": y_pred\n",
    "})\n",
    "submission.to_csv(sub_path, index=False)\n",
    "print(f\"Submission saved to: {sub_path}\")"
   ]
  }
 ],
 "metadata": {
  "kernelspec": {
   "display_name": "Python 3",
   "language": "python",
   "name": "python3"
  },
  "language_info": {
   "codemirror_mode": {
    "name": "ipython",
    "version": 3
   },
   "file_extension": ".py",
   "mimetype": "text/x-python",
   "name": "python",
   "nbconvert_exporter": "python",
   "pygments_lexer": "ipython3",
   "version": "3.12.0"
  }
 },
 "nbformat": 4,
 "nbformat_minor": 5
}
