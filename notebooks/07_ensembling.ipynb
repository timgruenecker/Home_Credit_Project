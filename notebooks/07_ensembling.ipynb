{
 "cells": [
  {
   "cell_type": "markdown",
   "id": "941c40cc",
   "metadata": {},
   "source": [
    "# 07_oof_predictions.ipynb\n",
    "\n",
    "This notebook generates out-of-fold (OOF) predictions for the three optimized base models:\n",
    "\n",
    "- LightGBM\n",
    "- XGBoost\n",
    "- CatBoost\n",
    "\n",
    "The goal is to create unbiased validation predictions by ensuring that each fold’s predictions are made by a model that has not seen the corresponding data during training. These OOF predictions are later used as input features for a stacked ensemble model.\n",
    "\n",
    "In addition to OOF generation, this notebook saves test set predictions for each model to be used in the ensemble test submission."
   ]
  },
  {
   "cell_type": "markdown",
   "id": "f09c5a9e",
   "metadata": {},
   "source": [
    "### Data Preparation and CV Setup"
   ]
  },
  {
   "cell_type": "code",
   "execution_count": 1,
   "id": "88943c3d",
   "metadata": {},
   "outputs": [],
   "source": [
    "# --- Shared setup cell for all models ---\n",
    "from pathlib import Path\n",
    "import pandas as pd\n",
    "import numpy as np\n",
    "from sklearn.model_selection import StratifiedKFold\n",
    "from sklearn.metrics import roc_auc_score\n",
    "from creditutils.path_utils import get_project_root\n",
    "\n",
    "# Define project paths\n",
    "proj_root = get_project_root(levels_up=1)\n",
    "output_dir = proj_root / \"outputs\"\n",
    "train_path = output_dir / \"03_train_features_autosearch_baseline.parquet\"\n",
    "test_path = output_dir / \"03_test_features_autosearch_baseline.parquet\"\n",
    "\n",
    "# Load training and test data\n",
    "df_train = pd.read_parquet(train_path)\n",
    "df_test = pd.read_parquet(test_path)\n",
    "\n",
    "# Separate target and features\n",
    "y = df_train[\"TARGET\"]\n",
    "X = df_train.drop(columns=[\"SK_ID_CURR\", \"TARGET\"])\n",
    "X_test = df_test.drop(columns=[\"SK_ID_CURR\"])\n",
    "\n",
    "# Convert object columns to category\n",
    "for df in [X, X_test]:\n",
    "    for col in df.select_dtypes(include=\"object\").columns:\n",
    "        df[col] = df[col].astype(\"category\")\n",
    "\n",
    "# Align category levels between train and test\n",
    "for col in X.select_dtypes(include=\"category\").columns:\n",
    "    if col in X_test:\n",
    "        cats = list(set(X[col].astype(str).unique()) | set(X_test[col].astype(str).unique()))\n",
    "        X[col] = X[col].astype(\"category\").cat.set_categories(cats)\n",
    "        X_test[col] = X_test[col].astype(\"category\").cat.set_categories(cats)\n",
    "\n",
    "# Set up stratified 5-fold CV\n",
    "cv = StratifiedKFold(n_splits=5, shuffle=True, random_state=42)"
   ]
  },
  {
   "cell_type": "markdown",
   "id": "95a58933",
   "metadata": {},
   "source": [
    "### LGBM OOF"
   ]
  },
  {
   "cell_type": "code",
   "execution_count": null,
   "id": "bad42d32",
   "metadata": {},
   "outputs": [],
   "source": [
    "from pathlib import Path\n",
    "import pandas as pd\n",
    "import numpy as np\n",
    "from sklearn.model_selection import StratifiedKFold\n",
    "from sklearn.metrics import roc_auc_score\n",
    "import lightgbm as lgb\n",
    "from creditutils.path_utils import get_project_root\n",
    "\n",
    "# Create arrays for out-of-fold (OOF) and test predictions\n",
    "oof_preds = np.zeros(len(X))\n",
    "test_preds = np.zeros(len(X_test))\n",
    "\n",
    "# Cross-validation loop\n",
    "for fold, (train_idx, val_idx) in enumerate(cv.split(X, y)):\n",
    "    print(f\"Training fold {fold}...\")\n",
    "    X_train, y_train = X.iloc[train_idx], y.iloc[train_idx]\n",
    "    X_val, y_val = X.iloc[val_idx], y.iloc[val_idx]\n",
    "\n",
    "    # LightGBM model with tuned parameters\n",
    "    model = lgb.LGBMClassifier(\n",
    "        boosting_type=\"goss\",  # Use Gradient-based One-Side Sampling\n",
    "        learning_rate=0.0031335727235880005,\n",
    "        max_depth=13,\n",
    "        num_leaves=100,\n",
    "        min_child_samples=191,\n",
    "        reg_alpha=0.037036865048284115,\n",
    "        reg_lambda=0.0021849671286405664,\n",
    "        subsample=0.8476213315586094,\n",
    "        colsample_bytree=0.444071532621635,\n",
    "        n_estimators=5339,\n",
    "        random_state=fold,\n",
    "        n_jobs=3\n",
    "    )\n",
    "\n",
    "    # Train and validate\n",
    "    model.fit(X_train, y_train, eval_set=[(X_val, y_val)], eval_metric=\"auc\")\n",
    "\n",
    "    # Save predictions\n",
    "    oof_preds[val_idx] = model.predict_proba(X_val)[:, 1]\n",
    "    test_preds += model.predict_proba(X_test)[:, 1] / cv.n_splits\n",
    "\n",
    "# Calculate overall OOF AUC\n",
    "oof_auc = roc_auc_score(y, oof_preds)\n",
    "print(f\"\\nOOF AUC: {oof_auc:.5f}\")\n",
    "\n",
    "# Save predictions to disk\n",
    "df_train[\"OOF_LGB\"] = oof_preds\n",
    "df_test[\"PRED_LGB\"] = test_preds\n",
    "\n",
    "df_train[[\"SK_ID_CURR\", \"TARGET\", \"OOF_LGB\"]].to_csv(output_dir / \"oof_lgb.csv\", index=False)\n",
    "df_test[[\"SK_ID_CURR\", \"PRED_LGB\"]].to_csv(output_dir / \"pred_test_lgb.csv\", index=False)\n",
    "\n",
    "print(\"Saved to:\")\n",
    "print(\"- oof_lgb.csv\")\n",
    "print(\"- pred_test_lgb.csv\")"
   ]
  },
  {
   "cell_type": "markdown",
   "id": "0f47d08b",
   "metadata": {},
   "source": [
    "Catboost OOF"
   ]
  },
  {
   "cell_type": "code",
   "execution_count": null,
   "id": "f2ab6d2a",
   "metadata": {},
   "outputs": [],
   "source": [
    "from catboost import CatBoostClassifier, Pool\n",
    "from sklearn.metrics import roc_auc_score\n",
    "\n",
    "# Copy to avoid modifying original dataframes\n",
    "cat_df_train = df_train.copy()\n",
    "cat_df_test = df_test.copy()\n",
    "cat_X = cat_df_train.drop(columns=[\"SK_ID_CURR\", \"TARGET\"])\n",
    "cat_y = cat_df_train[\"TARGET\"]\n",
    "cat_X_test = cat_df_test.drop(columns=[\"SK_ID_CURR\"])\n",
    "\n",
    "# Identify categorical features\n",
    "cat_features = cat_X.select_dtypes(include=[\"object\", \"category\"]).columns.tolist()\n",
    "\n",
    "# Convert categories to string (CatBoost requires this format)\n",
    "for col in cat_features:\n",
    "    cat_X[col] = cat_X[col].astype(str)\n",
    "    cat_X_test[col] = cat_X_test[col].astype(str)\n",
    "\n",
    "# Create arrays for OOF and test predictions\n",
    "cat_oof_preds = np.zeros(len(cat_X))\n",
    "cat_test_preds = np.zeros(len(cat_X_test))\n",
    "\n",
    "# Cross-validation loop\n",
    "for fold, (train_idx, val_idx) in enumerate(cv.split(cat_X, cat_y)):\n",
    "    print(f\"Training CatBoost fold {fold}...\")\n",
    "    X_train, y_train = cat_X.iloc[train_idx], cat_y.iloc[train_idx]\n",
    "    X_val, y_val = cat_X.iloc[val_idx], cat_y.iloc[val_idx]\n",
    "\n",
    "    # Create CatBoost Pool objects\n",
    "    train_pool = Pool(X_train, y_train, cat_features=cat_features)\n",
    "    val_pool = Pool(X_val, y_val, cat_features=cat_features)\n",
    "    test_pool = Pool(cat_X_test, cat_features=cat_features)\n",
    "\n",
    "    # Initialize CatBoost model with tuned hyperparameters\n",
    "    cat_model = CatBoostClassifier(\n",
    "        iterations=1383,\n",
    "        learning_rate=0.042326510977740595,\n",
    "        depth=5,\n",
    "        l2_leaf_reg=5.551455325485743,\n",
    "        bagging_temperature=0.6584052675829963,\n",
    "        border_count=72,\n",
    "        auto_class_weights='Balanced',\n",
    "        eval_metric='AUC',\n",
    "        random_seed=42,\n",
    "        verbose=0,\n",
    "        early_stopping_rounds=75,\n",
    "        task_type='CPU',\n",
    "        thread_count=-1\n",
    "    )\n",
    "\n",
    "    # Train and validate\n",
    "    cat_model.fit(train_pool, eval_set=val_pool)\n",
    "    cat_oof_preds[val_idx] = cat_model.predict_proba(X_val)[:, 1]\n",
    "    cat_test_preds += cat_model.predict_proba(cat_X_test)[:, 1] / cv.n_splits\n",
    "\n",
    "# Compute OOF AUC\n",
    "cat_auc = roc_auc_score(cat_y, cat_oof_preds)\n",
    "print(f\"\\nOOF AUC (CatBoost): {cat_auc:.5f}\")\n",
    "\n",
    "# Save predictions to disk\n",
    "cat_df_train[\"OOF_CAT\"] = cat_oof_preds\n",
    "cat_df_test[\"PRED_CAT\"] = cat_test_preds\n",
    "\n",
    "cat_df_train[[\"SK_ID_CURR\", \"TARGET\", \"OOF_CAT\"]].to_csv(output_dir / \"oof_cat.csv\", index=False)\n",
    "cat_df_test[[\"SK_ID_CURR\", \"PRED_CAT\"]].to_csv(output_dir / \"pred_test_cat.csv\", index=False)\n",
    "\n",
    "print(\"Saved to:\")\n",
    "print(\"- oof_cat.csv\")\n",
    "print(\"- pred_test_cat.csv\")"
   ]
  },
  {
   "cell_type": "markdown",
   "id": "f15c807c",
   "metadata": {},
   "source": [
    "XGBoost OOF"
   ]
  },
  {
   "cell_type": "code",
   "execution_count": null,
   "id": "450f732e",
   "metadata": {},
   "outputs": [],
   "source": [
    "from xgboost import XGBClassifier\n",
    "\n",
    "# Create copies of the data to avoid modifying original DataFrames\n",
    "xgb_df_train = df_train.copy()\n",
    "xgb_df_test = df_test.copy()\n",
    "xgb_X = xgb_df_train.drop(columns=[\"SK_ID_CURR\", \"TARGET\"])\n",
    "xgb_y = xgb_df_train[\"TARGET\"]\n",
    "xgb_X_test = xgb_df_test.drop(columns=[\"SK_ID_CURR\"])\n",
    "\n",
    "# Identify and convert categorical features\n",
    "xgb_cat_features = xgb_X.select_dtypes(include=[\"object\", \"category\"]).columns.tolist()\n",
    "for col in xgb_cat_features:\n",
    "    xgb_X[col] = xgb_X[col].astype(\"category\")\n",
    "    xgb_X_test[col] = xgb_X_test[col].astype(\"category\")\n",
    "\n",
    "# Arrays for OOF and test predictions\n",
    "xgb_oof_preds = np.zeros(len(xgb_X))\n",
    "xgb_test_preds = np.zeros(len(xgb_X_test))\n",
    "\n",
    "# Cross-validation loop\n",
    "for fold, (train_idx, val_idx) in enumerate(cv.split(xgb_X, xgb_y)):\n",
    "    print(f\"XGBoost fold {fold}\")\n",
    "    X_train, y_train = xgb_X.iloc[train_idx], xgb_y.iloc[train_idx]\n",
    "    X_val, y_val = xgb_X.iloc[val_idx], xgb_y.iloc[val_idx]\n",
    "\n",
    "    # Initialize XGBoost model with tuned hyperparameters\n",
    "    xgb_model = XGBClassifier(\n",
    "        n_estimators=1042,\n",
    "        learning_rate=0.05558810799284791,\n",
    "        max_depth=3,\n",
    "        subsample=0.8787759145726666,\n",
    "        colsample_bytree=0.9105365550107795,\n",
    "        gamma=3.633742017324177,\n",
    "        reg_alpha=3.5602493930649466,\n",
    "        reg_lambda=2.183731116122563,\n",
    "        scale_pos_weight=11.387150050352467,\n",
    "        use_label_encoder=False,\n",
    "        enable_categorical=True,\n",
    "        eval_metric='auc',\n",
    "        tree_method='hist',\n",
    "        early_stopping_rounds=75,\n",
    "        random_state=42,\n",
    "        n_jobs=3\n",
    "    )\n",
    "\n",
    "    # Train and validate\n",
    "    xgb_model.fit(X_train, y_train, eval_set=[(X_val, y_val)], verbose=0)\n",
    "    xgb_oof_preds[val_idx] = xgb_model.predict_proba(X_val)[:, 1]\n",
    "    xgb_test_preds += xgb_model.predict_proba(xgb_X_test)[:, 1] / cv.n_splits\n",
    "\n",
    "# Compute OOF AUC\n",
    "xgb_auc = roc_auc_score(xgb_y, xgb_oof_preds)\n",
    "print(f\"\\nOOF AUC (XGBoost): {xgb_auc:.5f}\")\n",
    "\n",
    "# Save predictions to disk\n",
    "xgb_df_train[\"OOF_XGB\"] = xgb_oof_preds\n",
    "xgb_df_test[\"PRED_XGB\"] = xgb_test_preds\n",
    "\n",
    "xgb_df_train[[\"SK_ID_CURR\", \"TARGET\", \"OOF_XGB\"]].to_csv(output_dir / \"oof_xgb.csv\", index=False)\n",
    "xgb_df_test[[\"SK_ID_CURR\", \"PRED_XGB\"]].to_csv(output_dir / \"pred_test_xgb.csv\", index=False)\n",
    "\n",
    "print(\"Saved to:\")\n",
    "print(\"- oof_xgb.csv\")\n",
    "print(\"- pred_test_xgb.csv\")\n"
   ]
  },
  {
   "cell_type": "markdown",
   "id": "798ad5ed",
   "metadata": {},
   "source": [
    "Stacked LGBM Model"
   ]
  },
  {
   "cell_type": "code",
   "execution_count": null,
   "id": "587bedce",
   "metadata": {},
   "outputs": [
    {
     "name": "stdout",
     "output_type": "stream",
     "text": [
      "[Meta-LGBM] AUC: 0.79379 ± 0.00459\n",
      "Saved to: submission_stacked_lgb.csv\n"
     ]
    }
   ],
   "source": [
    "import lightgbm as lgb\n",
    "import pandas as pd\n",
    "from sklearn.model_selection import StratifiedKFold\n",
    "from creditutils.feature_selection_utils import evaluate_auc\n",
    "\n",
    "# Load out-of-fold (OOF) predictions\n",
    "oof_lgb = pd.read_csv(output_dir / \"oof_lgb.csv\")\n",
    "oof_cat = pd.read_csv(output_dir / \"oof_cat.csv\")\n",
    "oof_xgb = pd.read_csv(output_dir / \"oof_xgb.csv\")\n",
    "\n",
    "# Load test predictions\n",
    "pred_lgb = pd.read_csv(output_dir / \"pred_test_lgb.csv\")\n",
    "pred_cat = pd.read_csv(output_dir / \"pred_test_cat.csv\")\n",
    "pred_xgb = pd.read_csv(output_dir / \"pred_test_xgb.csv\")\n",
    "\n",
    "# Construct meta training set\n",
    "meta_X = pd.DataFrame({\n",
    "    \"lgb\": oof_lgb[\"OOF_LGB\"],\n",
    "    \"cat\": oof_cat[\"OOF_CAT\"],\n",
    "    \"xgb\": oof_xgb[\"OOF_XGB\"]\n",
    "})\n",
    "meta_y = oof_lgb[\"TARGET\"]\n",
    "\n",
    "# Construct meta test set\n",
    "meta_X_test = pd.DataFrame({\n",
    "    \"lgb\": pred_lgb[\"PRED_LGB\"],\n",
    "    \"cat\": pred_cat[\"PRED_CAT\"],\n",
    "    \"xgb\": pred_xgb[\"PRED_XGB\"]\n",
    "})\n",
    "\n",
    "# Define LightGBM as meta-model\n",
    "meta_model = lgb.LGBMClassifier(\n",
    "    learning_rate=0.008,\n",
    "    n_estimators=500,\n",
    "    max_depth=3,\n",
    "    num_leaves=7,\n",
    "    random_state=42,\n",
    "    n_jobs=-1\n",
    ")\n",
    "\n",
    "# Evaluate with cross-validation using evaluate_auc\n",
    "cv = StratifiedKFold(n_splits=5, shuffle=True, random_state=42)\n",
    "lgbm_mean_auc, lgbm_std_auc = evaluate_auc(meta_X, meta_y, meta_model, cv=cv, name=\"Meta-LGBM\")\n",
    "\n",
    "# Train meta-model on full data\n",
    "meta_model.fit(meta_X, meta_y)\n",
    "\n",
    "# Predict on test set\n",
    "meta_test_pred = meta_model.predict_proba(meta_X_test)[:, 1]\n",
    "\n",
    "# Save final stacked submission\n",
    "submission_dir = proj_root / \"submissions\"\n",
    "submission_dir.mkdir(exist_ok=True)\n",
    "\n",
    "submission_stacked = pd.DataFrame({\n",
    "    \"SK_ID_CURR\": pred_lgb[\"SK_ID_CURR\"],\n",
    "    \"TARGET\": meta_test_pred\n",
    "})\n",
    "submission_stacked.to_csv(submission_dir / \"submission_stacked_lgb.csv\", index=False)\n",
    "\n",
    "print(\"Saved to: submission_stacked_lgb.csv\")"
   ]
  },
  {
   "cell_type": "markdown",
   "id": "2b2fe47e",
   "metadata": {},
   "source": [
    "Stacked Catboost Model"
   ]
  },
  {
   "cell_type": "code",
   "execution_count": 15,
   "id": "4a37696e",
   "metadata": {},
   "outputs": [
    {
     "name": "stdout",
     "output_type": "stream",
     "text": [
      "[Meta-CatBoost] AUC: 0.79343 ± 0.00456\n",
      "Saved to: submission_stacked_cat.csv\n"
     ]
    }
   ],
   "source": [
    "from catboost import CatBoostClassifier\n",
    "from sklearn.model_selection import StratifiedKFold\n",
    "from creditutils.feature_selection_utils import evaluate_auc\n",
    "\n",
    "# Define CatBoost as meta-model\n",
    "meta_model_cat = CatBoostClassifier(\n",
    "    learning_rate=0.01,\n",
    "    iterations=500,\n",
    "    depth=3,\n",
    "    l2_leaf_reg=3.0,\n",
    "    random_seed=42,\n",
    "    verbose=0,\n",
    "    task_type=\"CPU\"\n",
    ")\n",
    "\n",
    "# Evaluate CatBoost meta-model using cross-validation\n",
    "cv = StratifiedKFold(n_splits=5, shuffle=True, random_state=42)\n",
    "cat_mean_auc, cat_std_auc = evaluate_auc(meta_X, meta_y, meta_model_cat, cv=cv, name=\"Meta-CatBoost\")\n",
    "\n",
    "# Train meta-model on full data\n",
    "meta_model_cat.fit(meta_X, meta_y)\n",
    "\n",
    "# Predict on test set\n",
    "meta_test_pred_cat = meta_model_cat.predict_proba(meta_X_test)[:, 1]\n",
    "\n",
    "# Save CatBoost-based stacked submission\n",
    "submission_cat = pd.DataFrame({\n",
    "    \"SK_ID_CURR\": pred_lgb[\"SK_ID_CURR\"],\n",
    "    \"TARGET\": meta_test_pred_cat\n",
    "})\n",
    "submission_cat.to_csv(submission_dir / \"submission_stacked_cat.csv\", index=False)\n",
    "\n",
    "print(\"Saved to: submission_stacked_cat.csv\")"
   ]
  },
  {
   "cell_type": "markdown",
   "id": "33282cfb",
   "metadata": {},
   "source": [
    "Stacked XGBoost Model"
   ]
  },
  {
   "cell_type": "code",
   "execution_count": 16,
   "id": "fb180e17",
   "metadata": {},
   "outputs": [
    {
     "name": "stderr",
     "output_type": "stream",
     "text": [
      "c:\\Users\\timgr_\\AppData\\Local\\Programs\\Python\\Python312\\Lib\\site-packages\\xgboost\\training.py:183: UserWarning: [09:41:57] WARNING: C:\\actions-runner\\_work\\xgboost\\xgboost\\src\\learner.cc:738: \n",
      "Parameters: { \"use_label_encoder\" } are not used.\n",
      "\n",
      "  bst.update(dtrain, iteration=i, fobj=obj)\n",
      "c:\\Users\\timgr_\\AppData\\Local\\Programs\\Python\\Python312\\Lib\\site-packages\\xgboost\\training.py:183: UserWarning: [09:42:08] WARNING: C:\\actions-runner\\_work\\xgboost\\xgboost\\src\\learner.cc:738: \n",
      "Parameters: { \"use_label_encoder\" } are not used.\n",
      "\n",
      "  bst.update(dtrain, iteration=i, fobj=obj)\n",
      "c:\\Users\\timgr_\\AppData\\Local\\Programs\\Python\\Python312\\Lib\\site-packages\\xgboost\\training.py:183: UserWarning: [09:42:18] WARNING: C:\\actions-runner\\_work\\xgboost\\xgboost\\src\\learner.cc:738: \n",
      "Parameters: { \"use_label_encoder\" } are not used.\n",
      "\n",
      "  bst.update(dtrain, iteration=i, fobj=obj)\n",
      "c:\\Users\\timgr_\\AppData\\Local\\Programs\\Python\\Python312\\Lib\\site-packages\\xgboost\\training.py:183: UserWarning: [09:42:27] WARNING: C:\\actions-runner\\_work\\xgboost\\xgboost\\src\\learner.cc:738: \n",
      "Parameters: { \"use_label_encoder\" } are not used.\n",
      "\n",
      "  bst.update(dtrain, iteration=i, fobj=obj)\n",
      "c:\\Users\\timgr_\\AppData\\Local\\Programs\\Python\\Python312\\Lib\\site-packages\\xgboost\\training.py:183: UserWarning: [09:42:39] WARNING: C:\\actions-runner\\_work\\xgboost\\xgboost\\src\\learner.cc:738: \n",
      "Parameters: { \"use_label_encoder\" } are not used.\n",
      "\n",
      "  bst.update(dtrain, iteration=i, fobj=obj)\n"
     ]
    },
    {
     "name": "stdout",
     "output_type": "stream",
     "text": [
      "[Meta-XGBoost] AUC: 0.79381 ± 0.00456\n"
     ]
    },
    {
     "name": "stderr",
     "output_type": "stream",
     "text": [
      "c:\\Users\\timgr_\\AppData\\Local\\Programs\\Python\\Python312\\Lib\\site-packages\\xgboost\\training.py:183: UserWarning: [09:42:48] WARNING: C:\\actions-runner\\_work\\xgboost\\xgboost\\src\\learner.cc:738: \n",
      "Parameters: { \"use_label_encoder\" } are not used.\n",
      "\n",
      "  bst.update(dtrain, iteration=i, fobj=obj)\n"
     ]
    },
    {
     "name": "stdout",
     "output_type": "stream",
     "text": [
      "Saved to: submission_stacked_xgb.csv\n"
     ]
    }
   ],
   "source": [
    "from xgboost import XGBClassifier\n",
    "from sklearn.model_selection import StratifiedKFold\n",
    "from creditutils.feature_selection_utils import evaluate_auc\n",
    "\n",
    "# Define XGBoost as meta-model\n",
    "meta_model_xgb = XGBClassifier(\n",
    "    learning_rate=0.01,\n",
    "    n_estimators=500,\n",
    "    max_depth=3,\n",
    "    subsample=0.9,\n",
    "    colsample_bytree=0.9,\n",
    "    use_label_encoder=False,\n",
    "    eval_metric=\"auc\",\n",
    "    random_state=42,\n",
    "    n_jobs=-1\n",
    ")\n",
    "\n",
    "# Evaluate XGBoost meta-model using cross-validation\n",
    "cv = StratifiedKFold(n_splits=5, shuffle=True, random_state=42)\n",
    "xgb_mean_auc, xgb_std_auc = evaluate_auc(meta_X, meta_y, meta_model_xgb, cv=cv, name=\"Meta-XGBoost\")\n",
    "\n",
    "# Train meta-model on full data\n",
    "meta_model_xgb.fit(meta_X, meta_y)\n",
    "\n",
    "# Predict on test set\n",
    "meta_test_pred_xgb = meta_model_xgb.predict_proba(meta_X_test)[:, 1]\n",
    "\n",
    "# Save XGBoost-based stacked submission\n",
    "submission_xgb = pd.DataFrame({\n",
    "    \"SK_ID_CURR\": pred_lgb[\"SK_ID_CURR\"],\n",
    "    \"TARGET\": meta_test_pred_xgb\n",
    "})\n",
    "submission_xgb.to_csv(submission_dir / \"submission_stacked_xgb.csv\", index=False)\n",
    "\n",
    "print(\"Saved to: submission_stacked_xgb.csv\")"
   ]
  },
  {
   "cell_type": "code",
   "execution_count": null,
   "id": "35dba1db",
   "metadata": {},
   "outputs": [
    {
     "data": {
      "text/html": [
       "Tracking run with wandb version 0.21.0"
      ],
      "text/plain": [
       "<IPython.core.display.HTML object>"
      ]
     },
     "metadata": {},
     "output_type": "display_data"
    },
    {
     "data": {
      "text/html": [
       "Run data is saved locally in <code>c:\\Users\\timgr_\\OneDrive\\Desktop\\Master_Studium\\3. Semester\\Home_Credit_Projekt\\Home_Credit_Project\\notebooks\\wandb\\run-20250715_094658-h0xp80bu</code>"
      ],
      "text/plain": [
       "<IPython.core.display.HTML object>"
      ]
     },
     "metadata": {},
     "output_type": "display_data"
    },
    {
     "data": {
      "text/html": [
       "Syncing run <strong><a href='https://wandb.ai/timgruenecker-universit-t-freiburg/home_credit_default/runs/h0xp80bu' target=\"_blank\">04_ensemble_meta_lgb</a></strong> to <a href='https://wandb.ai/timgruenecker-universit-t-freiburg/home_credit_default' target=\"_blank\">Weights & Biases</a> (<a href='https://wandb.me/developer-guide' target=\"_blank\">docs</a>)<br>"
      ],
      "text/plain": [
       "<IPython.core.display.HTML object>"
      ]
     },
     "metadata": {},
     "output_type": "display_data"
    },
    {
     "data": {
      "text/html": [
       " View project at <a href='https://wandb.ai/timgruenecker-universit-t-freiburg/home_credit_default' target=\"_blank\">https://wandb.ai/timgruenecker-universit-t-freiburg/home_credit_default</a>"
      ],
      "text/plain": [
       "<IPython.core.display.HTML object>"
      ]
     },
     "metadata": {},
     "output_type": "display_data"
    },
    {
     "data": {
      "text/html": [
       " View run at <a href='https://wandb.ai/timgruenecker-universit-t-freiburg/home_credit_default/runs/h0xp80bu' target=\"_blank\">https://wandb.ai/timgruenecker-universit-t-freiburg/home_credit_default/runs/h0xp80bu</a>"
      ],
      "text/plain": [
       "<IPython.core.display.HTML object>"
      ]
     },
     "metadata": {},
     "output_type": "display_data"
    },
    {
     "data": {
      "text/html": [],
      "text/plain": [
       "<IPython.core.display.HTML object>"
      ]
     },
     "metadata": {},
     "output_type": "display_data"
    },
    {
     "data": {
      "text/html": [
       "<br>    <style><br>        .wandb-row {<br>            display: flex;<br>            flex-direction: row;<br>            flex-wrap: wrap;<br>            justify-content: flex-start;<br>            width: 100%;<br>        }<br>        .wandb-col {<br>            display: flex;<br>            flex-direction: column;<br>            flex-basis: 100%;<br>            flex: 1;<br>            padding: 10px;<br>        }<br>    </style><br><div class=\"wandb-row\"><div class=\"wandb-col\"><h3>Run history:</h3><br/><table class=\"wandb\"><tr><td>auc</td><td>▁</td></tr><tr><td>cv_std</td><td>▁</td></tr></table><br/></div><div class=\"wandb-col\"><h3>Run summary:</h3><br/><table class=\"wandb\"><tr><td>auc</td><td>0.79379</td></tr><tr><td>cv_std</td><td>0.00459</td></tr></table><br/></div></div>"
      ],
      "text/plain": [
       "<IPython.core.display.HTML object>"
      ]
     },
     "metadata": {},
     "output_type": "display_data"
    },
    {
     "data": {
      "text/html": [
       " View run <strong style=\"color:#cdcd00\">04_ensemble_meta_lgb</strong> at: <a href='https://wandb.ai/timgruenecker-universit-t-freiburg/home_credit_default/runs/h0xp80bu' target=\"_blank\">https://wandb.ai/timgruenecker-universit-t-freiburg/home_credit_default/runs/h0xp80bu</a><br> View project at: <a href='https://wandb.ai/timgruenecker-universit-t-freiburg/home_credit_default' target=\"_blank\">https://wandb.ai/timgruenecker-universit-t-freiburg/home_credit_default</a><br>Synced 5 W&B file(s), 0 media file(s), 0 artifact file(s) and 0 other file(s)"
      ],
      "text/plain": [
       "<IPython.core.display.HTML object>"
      ]
     },
     "metadata": {},
     "output_type": "display_data"
    },
    {
     "data": {
      "text/html": [
       "Find logs at: <code>.\\wandb\\run-20250715_094658-h0xp80bu\\logs</code>"
      ],
      "text/plain": [
       "<IPython.core.display.HTML object>"
      ]
     },
     "metadata": {},
     "output_type": "display_data"
    },
    {
     "data": {
      "text/html": [
       "Tracking run with wandb version 0.21.0"
      ],
      "text/plain": [
       "<IPython.core.display.HTML object>"
      ]
     },
     "metadata": {},
     "output_type": "display_data"
    },
    {
     "data": {
      "text/html": [
       "Run data is saved locally in <code>c:\\Users\\timgr_\\OneDrive\\Desktop\\Master_Studium\\3. Semester\\Home_Credit_Projekt\\Home_Credit_Project\\notebooks\\wandb\\run-20250715_094700-72p3w5nz</code>"
      ],
      "text/plain": [
       "<IPython.core.display.HTML object>"
      ]
     },
     "metadata": {},
     "output_type": "display_data"
    },
    {
     "data": {
      "text/html": [
       "Syncing run <strong><a href='https://wandb.ai/timgruenecker-universit-t-freiburg/home_credit_default/runs/72p3w5nz' target=\"_blank\">04_ensemble_meta_cat</a></strong> to <a href='https://wandb.ai/timgruenecker-universit-t-freiburg/home_credit_default' target=\"_blank\">Weights & Biases</a> (<a href='https://wandb.me/developer-guide' target=\"_blank\">docs</a>)<br>"
      ],
      "text/plain": [
       "<IPython.core.display.HTML object>"
      ]
     },
     "metadata": {},
     "output_type": "display_data"
    },
    {
     "data": {
      "text/html": [
       " View project at <a href='https://wandb.ai/timgruenecker-universit-t-freiburg/home_credit_default' target=\"_blank\">https://wandb.ai/timgruenecker-universit-t-freiburg/home_credit_default</a>"
      ],
      "text/plain": [
       "<IPython.core.display.HTML object>"
      ]
     },
     "metadata": {},
     "output_type": "display_data"
    },
    {
     "data": {
      "text/html": [
       " View run at <a href='https://wandb.ai/timgruenecker-universit-t-freiburg/home_credit_default/runs/72p3w5nz' target=\"_blank\">https://wandb.ai/timgruenecker-universit-t-freiburg/home_credit_default/runs/72p3w5nz</a>"
      ],
      "text/plain": [
       "<IPython.core.display.HTML object>"
      ]
     },
     "metadata": {},
     "output_type": "display_data"
    },
    {
     "data": {
      "text/html": [],
      "text/plain": [
       "<IPython.core.display.HTML object>"
      ]
     },
     "metadata": {},
     "output_type": "display_data"
    },
    {
     "data": {
      "text/html": [
       "<br>    <style><br>        .wandb-row {<br>            display: flex;<br>            flex-direction: row;<br>            flex-wrap: wrap;<br>            justify-content: flex-start;<br>            width: 100%;<br>        }<br>        .wandb-col {<br>            display: flex;<br>            flex-direction: column;<br>            flex-basis: 100%;<br>            flex: 1;<br>            padding: 10px;<br>        }<br>    </style><br><div class=\"wandb-row\"><div class=\"wandb-col\"><h3>Run history:</h3><br/><table class=\"wandb\"><tr><td>auc</td><td>▁</td></tr><tr><td>cv_std</td><td>▁</td></tr></table><br/></div><div class=\"wandb-col\"><h3>Run summary:</h3><br/><table class=\"wandb\"><tr><td>auc</td><td>0.79343</td></tr><tr><td>cv_std</td><td>0.00456</td></tr></table><br/></div></div>"
      ],
      "text/plain": [
       "<IPython.core.display.HTML object>"
      ]
     },
     "metadata": {},
     "output_type": "display_data"
    },
    {
     "data": {
      "text/html": [
       " View run <strong style=\"color:#cdcd00\">04_ensemble_meta_cat</strong> at: <a href='https://wandb.ai/timgruenecker-universit-t-freiburg/home_credit_default/runs/72p3w5nz' target=\"_blank\">https://wandb.ai/timgruenecker-universit-t-freiburg/home_credit_default/runs/72p3w5nz</a><br> View project at: <a href='https://wandb.ai/timgruenecker-universit-t-freiburg/home_credit_default' target=\"_blank\">https://wandb.ai/timgruenecker-universit-t-freiburg/home_credit_default</a><br>Synced 5 W&B file(s), 0 media file(s), 0 artifact file(s) and 0 other file(s)"
      ],
      "text/plain": [
       "<IPython.core.display.HTML object>"
      ]
     },
     "metadata": {},
     "output_type": "display_data"
    },
    {
     "data": {
      "text/html": [
       "Find logs at: <code>.\\wandb\\run-20250715_094700-72p3w5nz\\logs</code>"
      ],
      "text/plain": [
       "<IPython.core.display.HTML object>"
      ]
     },
     "metadata": {},
     "output_type": "display_data"
    },
    {
     "data": {
      "text/html": [
       "Tracking run with wandb version 0.21.0"
      ],
      "text/plain": [
       "<IPython.core.display.HTML object>"
      ]
     },
     "metadata": {},
     "output_type": "display_data"
    },
    {
     "data": {
      "text/html": [
       "Run data is saved locally in <code>c:\\Users\\timgr_\\OneDrive\\Desktop\\Master_Studium\\3. Semester\\Home_Credit_Projekt\\Home_Credit_Project\\notebooks\\wandb\\run-20250715_094703-3fkbk404</code>"
      ],
      "text/plain": [
       "<IPython.core.display.HTML object>"
      ]
     },
     "metadata": {},
     "output_type": "display_data"
    },
    {
     "data": {
      "text/html": [
       "Syncing run <strong><a href='https://wandb.ai/timgruenecker-universit-t-freiburg/home_credit_default/runs/3fkbk404' target=\"_blank\">04_ensemble_meta_xgb</a></strong> to <a href='https://wandb.ai/timgruenecker-universit-t-freiburg/home_credit_default' target=\"_blank\">Weights & Biases</a> (<a href='https://wandb.me/developer-guide' target=\"_blank\">docs</a>)<br>"
      ],
      "text/plain": [
       "<IPython.core.display.HTML object>"
      ]
     },
     "metadata": {},
     "output_type": "display_data"
    },
    {
     "data": {
      "text/html": [
       " View project at <a href='https://wandb.ai/timgruenecker-universit-t-freiburg/home_credit_default' target=\"_blank\">https://wandb.ai/timgruenecker-universit-t-freiburg/home_credit_default</a>"
      ],
      "text/plain": [
       "<IPython.core.display.HTML object>"
      ]
     },
     "metadata": {},
     "output_type": "display_data"
    },
    {
     "data": {
      "text/html": [
       " View run at <a href='https://wandb.ai/timgruenecker-universit-t-freiburg/home_credit_default/runs/3fkbk404' target=\"_blank\">https://wandb.ai/timgruenecker-universit-t-freiburg/home_credit_default/runs/3fkbk404</a>"
      ],
      "text/plain": [
       "<IPython.core.display.HTML object>"
      ]
     },
     "metadata": {},
     "output_type": "display_data"
    },
    {
     "data": {
      "text/html": [],
      "text/plain": [
       "<IPython.core.display.HTML object>"
      ]
     },
     "metadata": {},
     "output_type": "display_data"
    },
    {
     "data": {
      "text/html": [
       "<br>    <style><br>        .wandb-row {<br>            display: flex;<br>            flex-direction: row;<br>            flex-wrap: wrap;<br>            justify-content: flex-start;<br>            width: 100%;<br>        }<br>        .wandb-col {<br>            display: flex;<br>            flex-direction: column;<br>            flex-basis: 100%;<br>            flex: 1;<br>            padding: 10px;<br>        }<br>    </style><br><div class=\"wandb-row\"><div class=\"wandb-col\"><h3>Run history:</h3><br/><table class=\"wandb\"><tr><td>auc</td><td>▁</td></tr><tr><td>cv_std</td><td>▁</td></tr></table><br/></div><div class=\"wandb-col\"><h3>Run summary:</h3><br/><table class=\"wandb\"><tr><td>auc</td><td>0.79381</td></tr><tr><td>cv_std</td><td>0.00456</td></tr></table><br/></div></div>"
      ],
      "text/plain": [
       "<IPython.core.display.HTML object>"
      ]
     },
     "metadata": {},
     "output_type": "display_data"
    },
    {
     "data": {
      "text/html": [
       " View run <strong style=\"color:#cdcd00\">04_ensemble_meta_xgb</strong> at: <a href='https://wandb.ai/timgruenecker-universit-t-freiburg/home_credit_default/runs/3fkbk404' target=\"_blank\">https://wandb.ai/timgruenecker-universit-t-freiburg/home_credit_default/runs/3fkbk404</a><br> View project at: <a href='https://wandb.ai/timgruenecker-universit-t-freiburg/home_credit_default' target=\"_blank\">https://wandb.ai/timgruenecker-universit-t-freiburg/home_credit_default</a><br>Synced 5 W&B file(s), 0 media file(s), 0 artifact file(s) and 0 other file(s)"
      ],
      "text/plain": [
       "<IPython.core.display.HTML object>"
      ]
     },
     "metadata": {},
     "output_type": "display_data"
    },
    {
     "data": {
      "text/html": [
       "Find logs at: <code>.\\wandb\\run-20250715_094703-3fkbk404\\logs</code>"
      ],
      "text/plain": [
       "<IPython.core.display.HTML object>"
      ]
     },
     "metadata": {},
     "output_type": "display_data"
    }
   ],
   "source": [
    "import wandb\n",
    "\n",
    "# LightGBM run\n",
    "wandb.init(\n",
    "    project=\"home_credit_default\",\n",
    "    name=\"04_ensemble_meta_lgb\",\n",
    "    config={\n",
    "        \"meta_model\": \"lightgbm\",\n",
    "        \"selection\": \"SHAP + Elbow + Correlation\",\n",
    "        \"n_features\": 63,\n",
    "    }\n",
    ")\n",
    "wandb.log({\n",
    "    \"auc\": lgbm_mean_auc,\n",
    "    \"cv_std\": lgbm_std_auc,\n",
    "})\n",
    "wandb.finish()\n",
    "\n",
    "# CatBoost run\n",
    "wandb.init(\n",
    "    project=\"home_credit_default\",\n",
    "    name=\"04_ensemble_meta_cat\",\n",
    "    config={\n",
    "        \"meta_model\": \"catboost\",\n",
    "        \"selection\": \"SHAP + Elbow + Correlation\",\n",
    "        \"n_features\": 63,\n",
    "    }\n",
    ")\n",
    "wandb.log({\n",
    "    \"auc\": cat_mean_auc,\n",
    "    \"cv_std\": cat_std_auc,\n",
    "})\n",
    "wandb.finish()\n",
    "\n",
    "# XGBoost run\n",
    "wandb.init(\n",
    "    project=\"home_credit_default\",\n",
    "    name=\"04_ensemble_meta_xgb\",\n",
    "    config={\n",
    "        \"meta_model\": \"xgboost\",\n",
    "        \"selection\": \"SHAP + Elbow + Correlation\",\n",
    "        \"n_features\": 63,\n",
    "    }\n",
    ")\n",
    "wandb.log({\n",
    "    \"auc\": xgb_mean_auc,\n",
    "    \"cv_std\": xgb_std_auc,\n",
    "})\n",
    "wandb.finish()\n"
   ]
  }
 ],
 "metadata": {
  "kernelspec": {
   "display_name": "Python 3",
   "language": "python",
   "name": "python3"
  },
  "language_info": {
   "codemirror_mode": {
    "name": "ipython",
    "version": 3
   },
   "file_extension": ".py",
   "mimetype": "text/x-python",
   "name": "python",
   "nbconvert_exporter": "python",
   "pygments_lexer": "ipython3",
   "version": "3.12.0"
  }
 },
 "nbformat": 4,
 "nbformat_minor": 5
}
