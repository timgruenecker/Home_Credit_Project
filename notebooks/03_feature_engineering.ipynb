{
 "cells": [
  {
   "cell_type": "markdown",
   "id": "a68bd05c",
   "metadata": {},
   "source": [
    "# 03_feature_engineering.ipynb\n",
    "\n",
    "# Feature Engineering  \n",
    "Home Credit Default Risk Competition – building and testing candidate features  \n",
    "\n",
    "---\n",
    "\n",
    "\n",
    "## 1. Setup & Data Loading\n",
    "\n",
    "Import libraries, set plotting options, and load the four key tables.  \n",
    "All paths assume this notebook lives in `notebooks/` and `data/` is one level up.\n"
   ]
  },
  {
   "cell_type": "code",
   "execution_count": null,
   "id": "074e9755",
   "metadata": {},
   "outputs": [],
   "source": [
    "# Path\n",
    "import sys, os\n",
    "proj_root = os.path.abspath(os.path.join(os.getcwd(), os.pardir))\n",
    "if proj_root not in sys.path:\n",
    "    sys.path.insert(0, proj_root)\n",
    "\n",
    "# Standard imports\n",
    "import pandas as pd\n",
    "import numpy as np\n",
    "\n",
    "# Load data\n",
    "app = pd.read_csv(os.path.join(proj_root, 'data', 'application_train.csv'))\n",
    "inst = pd.read_csv(os.path.join(proj_root, 'data', 'installments_payments.csv'))\n",
    "bureau = pd.read_csv(os.path.join(proj_root, 'data', 'bureau.csv'))\n",
    "prev = pd.read_csv(os.path.join(proj_root, 'data', 'previous_application.csv'))\n",
    "bureau_balance = pd.read_csv(os.path.join(proj_root, 'data', 'bureau_balance.csv'))\n",
    "pos_cash = pd.read_csv(os.path.join(proj_root, 'data', 'POS_CASH_balance.csv'))\n",
    "cc_balance = pd.read_csv(os.path.join(proj_root, 'data', 'credit_card_balance.csv'))\n"
   ]
  },
  {
   "cell_type": "markdown",
   "id": "8c3fd377",
   "metadata": {},
   "source": [
    "## 2. Preprocessing\n",
    "\n",
    "Clean obvious anomalies before feature creation."
   ]
  },
  {
   "cell_type": "code",
   "execution_count": 2,
   "id": "3827b3e7",
   "metadata": {},
   "outputs": [],
   "source": [
    "# Treat the sentinel in DAYS_EMPLOYED\n",
    "app['DAYS_EMPLOYED'] = app['DAYS_EMPLOYED'].replace(365243, np.nan)\n",
    "\n",
    "# Fill selected missing columns with median\n",
    "fill_cols = ['EXT_SOURCE_1','EXT_SOURCE_2','EXT_SOURCE_3',\n",
    "             'FLOORSMAX_MEDI','YEARS_EMPLOYED']  # YEARS_EMPLOYED created below\n",
    "app['YEARS_EMPLOYED'] = -app['DAYS_EMPLOYED'] / 365\n",
    "app[fill_cols] = app[fill_cols].fillna(app[fill_cols].median())"
   ]
  },
  {
   "cell_type": "markdown",
   "id": "89c5a794",
   "metadata": {},
   "source": [
    "## 3. Basic Person-Level Features\n",
    "\n",
    "Simple transforms: age, employment years, log‐transforms, and category groupings.\n"
   ]
  },
  {
   "cell_type": "code",
   "execution_count": 3,
   "id": "b91e4a83",
   "metadata": {},
   "outputs": [],
   "source": [
    "# Age in years\n",
    "app['AGE'] = (-app['DAYS_BIRTH'] / 365).clip(lower=0)\n",
    "\n",
    "# Years employed\n",
    "app['YEARS_EMPLOYED'] = (-app['DAYS_EMPLOYED'] / 365).clip(lower=0)\n",
    "\n",
    "# Log transforms for skewed money amounts\n",
    "app['LOG_INCOME'] = np.log1p(app['AMT_INCOME_TOTAL'])\n",
    "app['LOG_CREDIT'] = np.log1p(app['AMT_CREDIT'])\n",
    "app['LOG_GOODS_PRICE'] = np.log1p(app['AMT_GOODS_PRICE'])"
   ]
  },
  {
   "cell_type": "markdown",
   "id": "4c16e0a7",
   "metadata": {},
   "source": [
    "## 4. Ratio & Interaction Features\n",
    "\n",
    "Combine basic columns to capture relationships (income vs credit, etc.)."
   ]
  },
  {
   "cell_type": "code",
   "execution_count": 4,
   "id": "f6a58a03",
   "metadata": {},
   "outputs": [],
   "source": [
    "# Annuity‐to‐income ratio\n",
    "app['ANNUITY_INCOME_RATIO'] = app['AMT_ANNUITY'] / (app['AMT_INCOME_TOTAL'] + 1)\n",
    "\n",
    "# Credit minus goods price\n",
    "app['CREDIT_GOODS_DIFF'] = app['AMT_CREDIT'] - app['AMT_GOODS_PRICE']\n",
    "\n",
    "# Credit‐to‐annuity ratio\n",
    "app['CREDIT_ANNUITY_RATIO'] = app['AMT_CREDIT'] / (app['AMT_ANNUITY'] + 1)\n",
    "\n",
    "# Age * employment years\n",
    "app['AGE_EMPLOYED_PRODUCT'] = app['AGE'] * app['YEARS_EMPLOYED']"
   ]
  },
  {
   "cell_type": "markdown",
   "id": "5e518ea1",
   "metadata": {},
   "source": [
    "## 5. External Score Features\n",
    "\n",
    "Leverage the three external scores and their interactions.\n"
   ]
  },
  {
   "cell_type": "code",
   "execution_count": 5,
   "id": "c7a52b0a",
   "metadata": {},
   "outputs": [
    {
     "name": "stderr",
     "output_type": "stream",
     "text": [
      "c:\\Users\\tgruenecker\\AppData\\Local\\Programs\\Python\\Python312\\Lib\\site-packages\\pandas\\core\\arraylike.py:399: RuntimeWarning: divide by zero encountered in log1p\n",
      "  result = getattr(ufunc, method)(*inputs, **kwargs)\n",
      "c:\\Users\\tgruenecker\\AppData\\Local\\Programs\\Python\\Python312\\Lib\\site-packages\\pandas\\core\\arraylike.py:399: RuntimeWarning: invalid value encountered in log1p\n",
      "  result = getattr(ufunc, method)(*inputs, **kwargs)\n"
     ]
    }
   ],
   "source": [
    "ext = ['EXT_SOURCE_1','EXT_SOURCE_2','EXT_SOURCE_3']\n",
    "\n",
    "# Mean of external scores\n",
    "app['EXT_SOURCE_MEAN'] = app[ext].mean(axis=1)\n",
    "\n",
    "# Interaction: log‐published‐ID age × external mean\n",
    "app['ID_PUBLISH_SCORE_INTERACTION'] = (\n",
    "    np.log1p(-app['DAYS_ID_PUBLISH'].abs()) * app['EXT_SOURCE_MEAN']\n",
    ")\n",
    "\n",
    "# Credit‐stress: requests per day de‐weighted by score\n",
    "app['CREDIT_STRESS_SCORE'] = (\n",
    "    app['AMT_REQ_CREDIT_BUREAU_DAY'] * (1 - app['EXT_SOURCE_MEAN'])\n",
    ")"
   ]
  },
  {
   "cell_type": "markdown",
   "id": "e0c080ea",
   "metadata": {},
   "source": [
    "## 6. Housing & Document Features\n",
    "\n",
    "Combine housing info and count submitted documents."
   ]
  },
  {
   "cell_type": "code",
   "execution_count": 6,
   "id": "b49067ca",
   "metadata": {},
   "outputs": [],
   "source": [
    "# Building age × floors\n",
    "app['BUILDING_AGE_SCORE'] = (\n",
    "    app['YEARS_BEGINEXPLUATATION_MEDI'] * app['FLOORSMAX_MEDI']\n",
    ")\n",
    "\n",
    "# Count of submitted documents\n",
    "doc_cols = [c for c in app.columns if c.startswith('FLAG_DOCUMENT_')]\n",
    "app['DOCUMENT_COUNT'] = app[doc_cols].sum(axis=1)"
   ]
  },
  {
   "cell_type": "markdown",
   "id": "02763fc5",
   "metadata": {},
   "source": [
    "## 7. Socio-Demographic Grouping\n",
    "\n",
    "Simplify and combine education, income type, and family status into a single category.\n"
   ]
  },
  {
   "cell_type": "code",
   "execution_count": 7,
   "id": "00402263",
   "metadata": {},
   "outputs": [],
   "source": [
    "# Simplify levels\n",
    "app['EDU_SIMPLE'] = app['NAME_EDUCATION_TYPE'].replace({\n",
    "    'Secondary / secondary special':'Secondary',\n",
    "    'Higher education':'Higher','Incomplete higher':'Higher',\n",
    "    'Lower secondary':'Secondary','Academic degree':'Higher'\n",
    "})\n",
    "app['INC_SIMPLE'] = app['NAME_INCOME_TYPE'].replace({\n",
    "    'Working':'Employed','State servant':'Employed',\n",
    "    'Commercial associate':'Self-employed','Business Entity Type 3':'Self-employed',\n",
    "    'Pensioner':'Retired','Student':'Student','Unemployed':'Unemployed'\n",
    "})\n",
    "app['FAM_SIMPLE'] = app['NAME_FAMILY_STATUS'].replace({\n",
    "    'Married':'Married','Civil marriage':'Single','Single / not married':'Single',\n",
    "    'Widow':'Single','Separated':'Single','Unknown':'Unknown'\n",
    "})\n",
    "\n",
    "# Combined socio-group\n",
    "app['SOCIO_GROUP'] = (\n",
    "    app['EDU_SIMPLE'] + '_' + app['INC_SIMPLE'] + '_' + app['FAM_SIMPLE']\n",
    ").astype('category')"
   ]
  },
  {
   "cell_type": "markdown",
   "id": "c367421c",
   "metadata": {},
   "source": [
    "## 8. Installments-Payments Features\n",
    "\n",
    "From `installments_payments.csv`, compute lateness, delay, and payment ratios, then aggregate per client."
   ]
  },
  {
   "cell_type": "code",
   "execution_count": 8,
   "id": "8eeccd14",
   "metadata": {},
   "outputs": [],
   "source": [
    "# Create raw columns\n",
    "inst['PAYMENT_LATE'] = (inst['DAYS_ENTRY_PAYMENT'] - inst['DAYS_INSTALMENT']).clip(lower=0)\n",
    "inst['PAYMENT_DELAY'] = inst['DAYS_ENTRY_PAYMENT'] - inst['DAYS_INSTALMENT']\n",
    "inst['DELAY_RATIO'] = inst['PAYMENT_DELAY'] / (inst['DAYS_INSTALMENT'].abs() + 1)\n",
    "inst['PAYMENT_RATIO'] = inst['AMT_PAYMENT'] / (inst['AMT_INSTALMENT'] + 1e-5)\n",
    "inst['ABS_PAY_DIFF'] = (inst['AMT_PAYMENT'] - inst['AMT_INSTALMENT']).abs()\n",
    "\n",
    "# additional raw features\n",
    "inst['PAYMENT_EARLY'] = (inst['DAYS_INSTALMENT'] - inst['DAYS_ENTRY_PAYMENT']).clip(lower=0)\n",
    "inst['IS_UNDERPAYMENT'] = (inst['AMT_PAYMENT'] < inst['AMT_INSTALMENT']).astype(int)\n",
    "inst['IS_OVERPAYMENT'] = (inst['AMT_PAYMENT'] > inst['AMT_INSTALMENT']).astype(int)\n",
    "inst['MISSED_PAYMENT'] = (inst['AMT_PAYMENT'] == 0).astype(int)\n",
    "inst['PAID_NOTHING_BUT_SHOULD'] = inst['MISSED_PAYMENT']\n",
    "inst['NUM_PREVIOUS_LOANS'] = inst['SK_ID_PREV']  # will count unique later\n",
    "\n",
    "# Aggregate by customer\n",
    "agg_inst = inst.groupby('SK_ID_CURR').agg({\n",
    "    'PAYMENT_DELAY': ['max'],\n",
    "    'PAYMENT_LATE': ['mean'],\n",
    "    'PAYMENT_EARLY': ['mean','max'],\n",
    "    'DELAY_RATIO': ['max'],\n",
    "    'PAYMENT_RATIO': ['mean','max'],\n",
    "    'ABS_PAY_DIFF': ['mean'],\n",
    "    'IS_UNDERPAYMENT': ['mean'],\n",
    "    'IS_OVERPAYMENT': ['mean'],\n",
    "    'MISSED_PAYMENT': ['sum'],\n",
    "    'PAID_NOTHING_BUT_SHOULD': ['sum'],\n",
    "    'SK_ID_PREV': pd.Series.nunique\n",
    "})\n",
    "\n",
    "# flatten columns\n",
    "agg_inst.columns = [\n",
    "    'inst_' + \n",
    "    ( 'NUM_PREV_LOANS_NUNIQUE' if c[0]=='SK_ID_PREV' \n",
    "      else '_'.join(c).upper() )\n",
    "    for c in agg_inst.columns\n",
    "]\n",
    "app = app.merge(agg_inst, how='left', on='SK_ID_CURR')"
   ]
  },
  {
   "cell_type": "markdown",
   "id": "4983d84d",
   "metadata": {},
   "source": [
    "## 9. Bureau Features\n",
    "\n",
    "From `bureau.csv`, fill missing, create ratios and flags, then aggregate per client."
   ]
  },
  {
   "cell_type": "code",
   "execution_count": 9,
   "id": "6fc9be26",
   "metadata": {},
   "outputs": [
    {
     "name": "stderr",
     "output_type": "stream",
     "text": [
      "C:\\Users\\tgruenecker\\AppData\\Local\\Temp\\ipykernel_22728\\3391996201.py:4: FutureWarning: A value is trying to be set on a copy of a DataFrame or Series through chained assignment using an inplace method.\n",
      "The behavior will change in pandas 3.0. This inplace method will never work because the intermediate object on which we are setting values always behaves as a copy.\n",
      "\n",
      "For example, when doing 'df[col].method(value, inplace=True)', try using 'df.method({col: value}, inplace=True)' or df[col] = df[col].method(value) instead, to perform the operation inplace on the original object.\n",
      "\n",
      "\n",
      "  bureau[col].fillna(0, inplace=True)\n",
      "C:\\Users\\tgruenecker\\AppData\\Local\\Temp\\ipykernel_22728\\3391996201.py:5: FutureWarning: A value is trying to be set on a copy of a DataFrame or Series through chained assignment using an inplace method.\n",
      "The behavior will change in pandas 3.0. This inplace method will never work because the intermediate object on which we are setting values always behaves as a copy.\n",
      "\n",
      "For example, when doing 'df[col].method(value, inplace=True)', try using 'df.method({col: value}, inplace=True)' or df[col] = df[col].method(value) instead, to perform the operation inplace on the original object.\n",
      "\n",
      "\n",
      "  bureau['DAYS_CREDIT_ENDDATE'].fillna(bureau['DAYS_CREDIT_ENDDATE'].median(), inplace=True)\n"
     ]
    }
   ],
   "source": [
    "# Preprocess nulls\n",
    "for col in ['AMT_ANNUITY','AMT_CREDIT_MAX_OVERDUE',\n",
    "            'AMT_CREDIT_SUM_LIMIT','AMT_CREDIT_SUM_DEBT','AMT_CREDIT_SUM']:\n",
    "    bureau[col].fillna(0, inplace=True)\n",
    "bureau['DAYS_CREDIT_ENDDATE'].fillna(bureau['DAYS_CREDIT_ENDDATE'].median(), inplace=True)\n",
    "bureau['DAYS_ENDDATE_FACT'] = bureau['DAYS_ENDDATE_FACT'].notna().astype(int)\n",
    "bureau['IS_ACTIVE'] = (bureau['DAYS_CREDIT_ENDDATE'] > 0).astype(int)\n",
    "bureau['CREDIT_COUNT'] = 1\n",
    "\n",
    "# Feature creation\n",
    "bureau['DEBT_CREDIT_RATIO'] = bureau['AMT_CREDIT_SUM_DEBT'] / (bureau['AMT_CREDIT_SUM'] + 1e-5)\n",
    "bureau['DEBT_LIMIT_RATIO'] = bureau['AMT_CREDIT_SUM_DEBT'] / (bureau['AMT_CREDIT_SUM_LIMIT'] + 1e-5)\n",
    "bureau['CREDIT_DURATION'] = bureau['DAYS_CREDIT_ENDDATE'] - bureau['DAYS_CREDIT']\n",
    "bureau['MAX_OVERDUE_RATIO'] = bureau['AMT_CREDIT_MAX_OVERDUE'] / (bureau['AMT_CREDIT_SUM'] + 1e-5)\n",
    "bureau['PROLONG_RATIO'] = bureau['CNT_CREDIT_PROLONG'] / (bureau['CREDIT_COUNT'] + 1e-5)\n",
    "\n",
    "# aggregate by customer\n",
    "agg_bur = bureau.groupby('SK_ID_CURR').agg({\n",
    "    'CREDIT_COUNT':'sum',\n",
    "    'IS_ACTIVE':'mean',\n",
    "    'DEBT_CREDIT_RATIO':['mean','max'],\n",
    "    'DEBT_LIMIT_RATIO':['mean'],\n",
    "    'CREDIT_DURATION':['mean','max'],\n",
    "    'MAX_OVERDUE_RATIO':['mean'],\n",
    "    'PROLONG_RATIO':['mean']\n",
    "})\n",
    "agg_bur.columns = ['bur_' + '_'.join(col).upper() for col in agg_bur.columns]\n",
    "app = app.merge(agg_bur, how='left', on='SK_ID_CURR')"
   ]
  },
  {
   "cell_type": "markdown",
   "id": "2d42610f",
   "metadata": {},
   "source": [
    "## 10. Previous Application Features\n",
    "\n",
    "From `previous_application.csv`, impute, derive per‐row features, then aggregate per client.\n"
   ]
  },
  {
   "cell_type": "code",
   "execution_count": 10,
   "id": "58b1f2b9",
   "metadata": {},
   "outputs": [
    {
     "name": "stderr",
     "output_type": "stream",
     "text": [
      "C:\\Users\\tgruenecker\\AppData\\Local\\Temp\\ipykernel_22728\\1466616860.py:3: FutureWarning: A value is trying to be set on a copy of a DataFrame or Series through chained assignment using an inplace method.\n",
      "The behavior will change in pandas 3.0. This inplace method will never work because the intermediate object on which we are setting values always behaves as a copy.\n",
      "\n",
      "For example, when doing 'df[col].method(value, inplace=True)', try using 'df.method({col: value}, inplace=True)' or df[col] = df[col].method(value) instead, to perform the operation inplace on the original object.\n",
      "\n",
      "\n",
      "  prev[c].fillna(0, inplace=True)\n",
      "C:\\Users\\tgruenecker\\AppData\\Local\\Temp\\ipykernel_22728\\1466616860.py:4: FutureWarning: A value is trying to be set on a copy of a DataFrame or Series through chained assignment using an inplace method.\n",
      "The behavior will change in pandas 3.0. This inplace method will never work because the intermediate object on which we are setting values always behaves as a copy.\n",
      "\n",
      "For example, when doing 'df[col].method(value, inplace=True)', try using 'df.method({col: value}, inplace=True)' or df[col] = df[col].method(value) instead, to perform the operation inplace on the original object.\n",
      "\n",
      "\n",
      "  prev['DAYS_TERMINATION'].fillna(prev['DAYS_TERMINATION'].median(), inplace=True)\n"
     ]
    }
   ],
   "source": [
    "# Preprocess nulls\n",
    "for c in ['AMT_ANNUITY','AMT_CREDIT','AMT_GOODS_PRICE']:\n",
    "    prev[c].fillna(0, inplace=True)\n",
    "prev['DAYS_TERMINATION'].fillna(prev['DAYS_TERMINATION'].median(), inplace=True)\n",
    "\n",
    "# Row‐level features\n",
    "prev['APP_AGE'] = prev['DAYS_DECISION'].abs()\n",
    "prev['APPROVAL_RATIO'] = prev['AMT_CREDIT'] / (prev['AMT_APPLICATION'] + 1e-5)\n",
    "prev['CREDIT_ANNUITY_RATIO'] = prev['AMT_CREDIT'] / (prev['AMT_ANNUITY'] + 1e-5)\n",
    "prev['GOODS_CREDIT_DIFF'] = prev['AMT_CREDIT'] - prev['AMT_GOODS_PRICE']\n",
    "prev['CREDIT_DURATION'] = prev['DAYS_TERMINATION'] - prev['DAYS_DECISION']\n",
    "prev['WAS_APPROVED'] = (prev['NAME_CONTRACT_STATUS']=='Approved').astype(int)\n",
    "\n",
    "# Aggregate by customer\n",
    "agg_prev = prev.groupby('SK_ID_CURR').agg({\n",
    "    'APP_AGE':['mean','max'],\n",
    "    'APPROVAL_RATIO':['mean'],\n",
    "    'CREDIT_ANNUITY_RATIO':['mean'],\n",
    "    'GOODS_CREDIT_DIFF':['mean'],\n",
    "    'CREDIT_DURATION':['mean'],\n",
    "    'WAS_APPROVED':['mean','sum']\n",
    "})\n",
    "agg_prev.columns = ['prev_' + '_'.join(col).upper() for col in agg_prev.columns]\n",
    "app = app.merge(agg_prev, how='left', on='SK_ID_CURR')"
   ]
  },
  {
   "cell_type": "markdown",
   "id": "edb58d66",
   "metadata": {},
   "source": [
    "## 11. Bureau Balance Features\n",
    "\n",
    "From `bureau_balance.csv`, join to `bureau` on `SK_ID_BUREAU` to get `SK_ID_CURR`, map status codes to numeric delinquency levels, create a delinquency indicator, then aggregate per customer."
   ]
  },
  {
   "cell_type": "code",
   "execution_count": 11,
   "id": "7ba53293",
   "metadata": {},
   "outputs": [],
   "source": [
    "# 11. Bureau Balance Features\n",
    "bb = bureau_balance.merge(\n",
    "    bureau[['SK_ID_BUREAU','SK_ID_CURR']],\n",
    "    on='SK_ID_BUREAU',\n",
    "    how='left'\n",
    ")\n",
    "\n",
    "# Map STATUS to numeric levels (0 = closed/unknown/no DPD, 1–5 = severity of DPD)\n",
    "status_map = {'C': 0, 'X': 0, '0': 0, '1': 1, '2': 2, '3': 3, '4': 4, '5': 5}\n",
    "bb['STATUS_NUM'] = bb['STATUS'].map(status_map).fillna(0).astype(int)\n",
    "bb['DELINQ']     = bb['STATUS'].isin(['1','2','3','4','5']).astype(int)\n",
    "\n",
    "# Aggregate features by customer\n",
    "agg_bb = bb.groupby('SK_ID_CURR').agg({\n",
    "    'MONTHS_BALANCE': ['min','max','count'],\n",
    "    'STATUS_NUM':     ['mean','max'],\n",
    "    'DELINQ':         ['mean']\n",
    "})\n",
    "\n",
    "# Rename columns\n",
    "agg_bb.columns = ['bb_' + '_'.join(col).upper() for col in agg_bb.columns]\n",
    "\n",
    "# Merge into main dataframe\n",
    "app = app.merge(agg_bb, how='left', on='SK_ID_CURR')"
   ]
  },
  {
   "cell_type": "markdown",
   "id": "71cd6adf",
   "metadata": {},
   "source": [
    "## 12. POS Cash Balance Features\n",
    "\n",
    "From `POS_CASH_balance.csv`, derive indicators for delinquency and active status, then compute summary statistics per customer.\n"
   ]
  },
  {
   "cell_type": "code",
   "execution_count": 12,
   "id": "aed5453a",
   "metadata": {},
   "outputs": [],
   "source": [
    "# 12. POS Cash Balance Features\n",
    "pc = pos_cash.copy()\n",
    "\n",
    "# Create delinquency and active indicators\n",
    "pc['DELINQ']      = (pc['SK_DPD'] > 0).astype(int)\n",
    "pc['DELINQ_DEF']  = (pc['SK_DPD_DEF'] > 0).astype(int)\n",
    "pc['ACTIVE']      = (pc['NAME_CONTRACT_STATUS'] == 'Active').astype(int)\n",
    "\n",
    "# Aggregate features by customer\n",
    "agg_pc = pc.groupby('SK_ID_CURR').agg({\n",
    "    'MONTHS_BALANCE':       ['min','max','count'],\n",
    "    'CNT_INSTALMENT':       ['mean'],\n",
    "    'CNT_INSTALMENT_FUTURE':['mean'],\n",
    "    'DELINQ':               ['mean','max'],\n",
    "    'DELINQ_DEF':           ['mean','max'],\n",
    "    'ACTIVE':               ['mean']\n",
    "})\n",
    "\n",
    "# Rename columns\n",
    "agg_pc.columns = ['pc_' + '_'.join(col).upper() for col in agg_pc.columns]\n",
    "\n",
    "# Merge into main dataframe\n",
    "app = app.merge(agg_pc, how='left', on='SK_ID_CURR')\n"
   ]
  },
  {
   "cell_type": "markdown",
   "id": "655bde19",
   "metadata": {},
   "source": [
    "## 13. Credit Card Balance Features\n",
    "\n",
    "From `credit_card_balance.csv`, compute ratio features for balances, withdrawals and payments, create delinquency indicators, then aggregate per customer.\n"
   ]
  },
  {
   "cell_type": "code",
   "execution_count": 13,
   "id": "ce09e67f",
   "metadata": {},
   "outputs": [],
   "source": [
    "# 13. Credit Card Balance Features\n",
    "ccb = cc_balance.copy()\n",
    "\n",
    "# Ratio features\n",
    "ccb['LIMIT_BAL_RATIO']   = ccb['AMT_BALANCE'] / (ccb['AMT_CREDIT_LIMIT_ACTUAL'] + 1e-5)\n",
    "ccb['DRAWINGS_RATIO']    = ccb['AMT_DRAWINGS_CURRENT'] / (ccb['AMT_CREDIT_LIMIT_ACTUAL'] + 1e-5)\n",
    "ccb['PAYMENT_BAL_RATIO'] = ccb['AMT_PAYMENT_CURRENT'] / (ccb['AMT_BALANCE'] + 1e-5)\n",
    "ccb['RECV_DIFF_RATIO']   = (\n",
    "    (ccb['AMT_TOTAL_RECEIVABLE'] - ccb['AMT_RECEIVABLE_PRINCIPAL'])\n",
    "    / (ccb['AMT_TOTAL_RECEIVABLE'] + 1e-5)\n",
    ")\n",
    "\n",
    "# Create delinquency indicators\n",
    "ccb['DELINQ']     = (ccb['SK_DPD'] > 0).astype(int)\n",
    "ccb['DELINQ_DEF'] = (ccb['SK_DPD_DEF'] > 0).astype(int)\n",
    "\n",
    "# Aggregate features by customer\n",
    "agg_ccb = ccb.groupby('SK_ID_CURR').agg({\n",
    "    'MONTHS_BALANCE':    ['min','max','count'],\n",
    "    'LIMIT_BAL_RATIO':   ['mean','max'],\n",
    "    'DRAWINGS_RATIO':    ['mean'],\n",
    "    'PAYMENT_BAL_RATIO': ['mean'],\n",
    "    'RECV_DIFF_RATIO':   ['mean'],\n",
    "    'DELINQ':            ['mean','max'],\n",
    "    'DELINQ_DEF':        ['mean','max']\n",
    "})\n",
    "\n",
    "# Rename columns\n",
    "agg_ccb.columns = ['ccb_' + '_'.join(col).upper() for col in agg_ccb.columns]\n",
    "\n",
    "# Merge into main dataframe\n",
    "app = app.merge(agg_ccb, how='left', on='SK_ID_CURR')\n"
   ]
  },
  {
   "cell_type": "markdown",
   "id": "1d816032",
   "metadata": {},
   "source": [
    "## 14. Feature Evaluation (Quick Sanity Check)\n",
    "\n",
    "In this step we select **only numeric** features (excluding identifiers and the target), then compute their absolute Pearson correlation with `TARGET`.  \n",
    "This gives a first indication of which engineered features are most promising and should be prioritized in the subsequent feature selection phase."
   ]
  },
  {
   "cell_type": "code",
   "execution_count": 14,
   "id": "379b55e6",
   "metadata": {},
   "outputs": [
    {
     "name": "stdout",
     "output_type": "stream",
     "text": [
      "TARGET                         1.000000\n",
      "EXT_SOURCE_MEAN                0.230491\n",
      "EXT_SOURCE_3                   0.164780\n",
      "EXT_SOURCE_2                   0.160295\n",
      "EXT_SOURCE_1                   0.142114\n",
      "AGE                            0.078239\n",
      "DAYS_BIRTH                     0.078239\n",
      "DAYS_EMPLOYED                  0.074958\n",
      "YEARS_EMPLOYED                 0.074958\n",
      "AGE_EMPLOYED_PRODUCT           0.074709\n",
      "bb_MONTHS_BALANCE_MIN          0.073225\n",
      "prev_WAS_APPROVED_MEAN         0.063521\n",
      "inst_IS_UNDERPAYMENT_MEAN      0.062612\n",
      "ccb_MONTHS_BALANCE_MIN         0.061359\n",
      "REGION_RATING_CLIENT_W_CITY    0.060893\n",
      "Name: TARGET, dtype: float64\n"
     ]
    }
   ],
   "source": [
    "\n",
    "# pick only the numeric columns\n",
    "numeric_feats = (\n",
    "    app\n",
    "    .select_dtypes(include=['number'])\n",
    "    .columns\n",
    "    .drop(['SK_ID_CURR', 'TARGET'], errors='ignore')\n",
    ")\n",
    "\n",
    "# compute absolute Pearson correlation with TARGET\n",
    "corrs = (\n",
    "    app[numeric_feats.tolist() + ['TARGET']]\n",
    "    .corr()['TARGET']\n",
    "    .abs()\n",
    "    .sort_values(ascending=False)\n",
    ")\n",
    "\n",
    "# show top 15\n",
    "print(corrs.head(15))\n"
   ]
  },
  {
   "cell_type": "markdown",
   "id": "3df669e8",
   "metadata": {},
   "source": [
    "## 15. Export Feature Matrix\n",
    "\n",
    "Save the full set of engineered features for the selection notebook."
   ]
  },
  {
   "cell_type": "code",
   "execution_count": null,
   "id": "545e0312",
   "metadata": {},
   "outputs": [
    {
     "name": "stdout",
     "output_type": "stream",
     "text": [
      "Exported 196 features.\n"
     ]
    }
   ],
   "source": [
    "# List of all feature columns\n",
    "feature_cols = [c for c in app.columns if c not in ['SK_ID_CURR','TARGET']]\n",
    "pd.Series(feature_cols).to_csv(os.path.join(proj_root,'outputs','00_feature_names_all.csv'), index=False)\n",
    "\n",
    "# Export full DataFrame\n",
    "app[['SK_ID_CURR'] + feature_cols + ['TARGET']] \\\n",
    "   .to_csv(os.path.join(proj_root,'outputs','00_train_features_all.csv'), index=False)\n",
    "\n",
    "print(\"Exported\", len(feature_cols), \"features.\")"
   ]
  }
 ],
 "metadata": {
  "kernelspec": {
   "display_name": "Python 3",
   "language": "python",
   "name": "python3"
  },
  "language_info": {
   "codemirror_mode": {
    "name": "ipython",
    "version": 3
   },
   "file_extension": ".py",
   "mimetype": "text/x-python",
   "name": "python",
   "nbconvert_exporter": "python",
   "pygments_lexer": "ipython3",
   "version": "3.12.0"
  }
 },
 "nbformat": 4,
 "nbformat_minor": 5
}
